{
 "cells": [
  {
   "cell_type": "markdown",
   "metadata": {},
   "source": [
    "# Python Basics with Examples\n"
   ]
  },
  {
   "cell_type": "markdown",
   "metadata": {},
   "source": [
    "### User Defined Functions, Comments,  Printing, Input, Condition, Loop"
   ]
  },
  {
   "cell_type": "code",
   "execution_count": 8,
   "metadata": {},
   "outputs": [
    {
     "name": "stdout",
     "output_type": "stream",
     "text": [
      "enter language: 2\n",
      "Take Deep Breath Count numbers\n",
      "<class 'str'>\n",
      "limit is: 5\n",
      "2\n",
      "3\n",
      "4\n",
      "Dude you are high, Go Home\n"
     ]
    }
   ],
   "source": [
    "def count(n):\n",
    "    \"\"\"\n",
    "    Comments for this function\n",
    "    \"\"\"\n",
    "    print(type(n))\n",
    "    if n.isdigit(): \n",
    "        limit = int(n)\n",
    "        step = 1\n",
    "        print(\"limit is: \" + str(limit))\n",
    "        for x in range(2,limit,step):\n",
    "            print(x)\n",
    "    else:\n",
    "        x = 0\n",
    "    return x\n",
    "\n",
    "language = input(\"enter language: \")\n",
    "\n",
    "if(language == \"Scala\"):\n",
    "    print(\"You are drunk this is python session\")\n",
    "elif(language == \"Python\"):\n",
    "    print(\"Welcome to Python Session\")\n",
    "else:\n",
    "    print(\"Take Deep Breath Count numbers\")\n",
    "    count(\"5\")\n",
    "    print(\"Dude you are high, Go Home\")    \n",
    "    \n",
    "\n"
   ]
  },
  {
   "cell_type": "markdown",
   "metadata": {},
   "source": [
    "### In-built Functions"
   ]
  },
  {
   "cell_type": "code",
   "execution_count": 1,
   "metadata": {},
   "outputs": [
    {
     "name": "stdout",
     "output_type": "stream",
     "text": [
      "2\n",
      "1\n",
      "6\n",
      "6\n"
     ]
    }
   ],
   "source": [
    "print(max(1,2))\n",
    "print(min(1,2))\n",
    "print(len(\"Python\"))\n",
    "print(sum([1,2,3]))"
   ]
  },
  {
   "cell_type": "markdown",
   "metadata": {},
   "source": [
    "### List"
   ]
  },
  {
   "cell_type": "code",
   "execution_count": 2,
   "metadata": {},
   "outputs": [
    {
     "name": "stdout",
     "output_type": "stream",
     "text": [
      "['Scala', 'Python', 'Java', 'R']\n",
      "Python\n",
      "R\n",
      "['Scala', 'Python']\n"
     ]
    }
   ],
   "source": [
    "languages = [\"Scala\",\"Python\",\"Java\",\"R\"]\n",
    "print(languages)\n",
    "print(languages[1])\n",
    "print(languages[-1])\n",
    "print(languages[:2])"
   ]
  },
  {
   "cell_type": "markdown",
   "metadata": {},
   "source": [
    "### Dictionary"
   ]
  },
  {
   "cell_type": "code",
   "execution_count": 3,
   "metadata": {},
   "outputs": [
    {
     "name": "stdout",
     "output_type": "stream",
     "text": [
      "{'Scala': 'Functional Programming', 'Java': 'OOPS', 'Python': 'Interpreted'}\n",
      "Functional Programming\n",
      "{'Scala': 'Functional Programming', 'Java': 'OOPS', 'Python': 'Interpreted', 'R': 'Statistical Computing'}\n"
     ]
    }
   ],
   "source": [
    "dictionary = {\"Scala\": \"Functional Programming\", \n",
    "              \"Java\": \"OOPS\", \"Python\": \"Interpreted\"}\n",
    "print(dictionary)\n",
    "print(dictionary[\"Scala\"])\n",
    "dictionary[\"R\"] = \"Statistical Computing\"\n",
    "print(dictionary)"
   ]
  }
 ],
 "metadata": {
  "kernelspec": {
   "display_name": "Python 3",
   "language": "python",
   "name": "python3"
  },
  "language_info": {
   "codemirror_mode": {
    "name": "ipython",
    "version": 3
   },
   "file_extension": ".py",
   "mimetype": "text/x-python",
   "name": "python",
   "nbconvert_exporter": "python",
   "pygments_lexer": "ipython3",
   "version": "3.6.1"
  }
 },
 "nbformat": 4,
 "nbformat_minor": 2
}
