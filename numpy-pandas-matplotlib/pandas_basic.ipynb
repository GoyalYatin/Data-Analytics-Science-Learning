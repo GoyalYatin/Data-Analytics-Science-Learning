{
 "cells": [
  {
   "cell_type": "markdown",
   "metadata": {},
   "source": [
    "# Pandas\n",
    "\n",
    "Pandas contains high level data structures and manipulation tools to make data analysis fast and easy in Python."
   ]
  },
  {
   "cell_type": "code",
   "execution_count": 83,
   "metadata": {
    "collapsed": true
   },
   "outputs": [],
   "source": [
    "import pandas as pd # importing pandas as pd\n",
    "from pandas import Series, DataFrame # Series and Data Frame are two data structures available in python"
   ]
  },
  {
   "cell_type": "markdown",
   "metadata": {},
   "source": [
    "## Series\n",
    "Series is a one-dimensional array like object containing an array of data"
   ]
  },
  {
   "cell_type": "code",
   "execution_count": 9,
   "metadata": {},
   "outputs": [
    {
     "name": "stdout",
     "output_type": "stream",
     "text": [
      "0    5\n",
      "1    4\n",
      "2    3\n",
      "3    2\n",
      "4    1\n",
      "dtype: int64\n",
      "===================\n",
      "[5 4 3 2 1]\n",
      "===================\n",
      "RangeIndex(start=0, stop=5, step=1)\n"
     ]
    }
   ],
   "source": [
    "series = Series([5,4,3,2,1])\n",
    "print(series)\n",
    "print(\"===================\")\n",
    "print(series.values)\n",
    "print(\"===================\")\n",
    "print(series.index)"
   ]
  },
  {
   "cell_type": "code",
   "execution_count": 11,
   "metadata": {},
   "outputs": [
    {
     "name": "stdout",
     "output_type": "stream",
     "text": [
      "a    5\n",
      "b    4\n",
      "c    3\n",
      "d    2\n",
      "e    1\n",
      "f   -2\n",
      "h   -3\n",
      "dtype: int64\n",
      "===================\n",
      "5\n",
      "===================\n",
      "b      4\n",
      "c    100\n",
      "d      2\n",
      "dtype: int64\n"
     ]
    }
   ],
   "source": [
    "new_series = Series([5,4,3,2,1,-2,-3], index =['a','b','c','d','e','f','h']) \n",
    "print(new_series)\n",
    "print(\"===================\")\n",
    "print(new_series['a'])\n",
    "\n",
    "new_series['c'] = 100\n",
    "print(\"===================\")\n",
    "print(new_series[['b', 'c', 'd']])"
   ]
  },
  {
   "cell_type": "code",
   "execution_count": 12,
   "metadata": {},
   "outputs": [
    {
     "name": "stdout",
     "output_type": "stream",
     "text": [
      "a      5\n",
      "b      4\n",
      "c    100\n",
      "d      2\n",
      "e      1\n",
      "dtype: int64\n",
      "a      50\n",
      "b      40\n",
      "c    1000\n",
      "d      20\n",
      "e      10\n",
      "f     -20\n",
      "h     -30\n",
      "dtype: int64\n"
     ]
    }
   ],
   "source": [
    "# checking condition with in series and other operations\n",
    "print(new_series[new_series>0])\n",
    "print(\"===================\")\n",
    "print(new_series * 10)"
   ]
  },
  {
   "cell_type": "code",
   "execution_count": 17,
   "metadata": {},
   "outputs": [
    {
     "name": "stdout",
     "output_type": "stream",
     "text": [
      "3.0\n",
      "True\n",
      "False\n"
     ]
    }
   ],
   "source": [
    "# using numpy with pandas\n",
    "import numpy as np\n",
    "print(np.mean(series))\n",
    "\n",
    "# check whether the index is present in Series\n",
    "print('a' in new_series)\n",
    "print('z' in new_series)"
   ]
  },
  {
   "cell_type": "markdown",
   "metadata": {},
   "source": [
    "#### Converting dictionary to a series"
   ]
  },
  {
   "cell_type": "code",
   "execution_count": 19,
   "metadata": {},
   "outputs": [
    {
     "name": "stdout",
     "output_type": "stream",
     "text": [
      "Bhuvneshwar    70\n",
      "Hardik         30\n",
      "Rohit          11\n",
      "Shikhar         8\n",
      "Virat           1\n",
      "dtype: int64\n",
      "==========================\n",
      "Sachin          NaN\n",
      "Virat           1.0\n",
      "Rohit          11.0\n",
      "Shikhar         8.0\n",
      "Rahul           NaN\n",
      "Hardik         30.0\n",
      "Bhuvneshwar    70.0\n",
      "dtype: float64\n",
      "===================\n",
      "Sachin          True\n",
      "Virat          False\n",
      "Rohit          False\n",
      "Shikhar        False\n",
      "Rahul           True\n",
      "Hardik         False\n",
      "Bhuvneshwar    False\n",
      "dtype: bool\n",
      "===================\n",
      "Sachin         False\n",
      "Virat           True\n",
      "Rohit           True\n",
      "Shikhar         True\n",
      "Rahul          False\n",
      "Hardik          True\n",
      "Bhuvneshwar     True\n",
      "dtype: bool\n"
     ]
    }
   ],
   "source": [
    "players_rank ={'Virat': 1, 'Rohit': 11, 'Shikhar': 8, 'Hardik':30, 'Bhuvneshwar': 70} \n",
    "new_player = Series(players_rank)# converting a dictionary to a series\n",
    "print(new_player) # the series has keys of a dictionary\n",
    "print(\"==========================\")\n",
    "players =['Sachin', 'Virat', 'Rohit', 'Shikhar', 'Rahul', 'Hardik', 'Bhuvneshwar'] \n",
    "player_1 =Series(players_rank, index= players)\n",
    "print(player_1)\n",
    "print(\"===================\")\n",
    "print(pd.isnull(player_1))\n",
    "print(\"===================\")\n",
    "print(pd.notnull(player_1))\n",
    "\n"
   ]
  },
  {
   "cell_type": "markdown",
   "metadata": {},
   "source": [
    "## Data Frame\n",
    "Data frame is a spread sheet like structure, containing ordered collection of columns. Each column can have different value type. Data frame has both row index and column index."
   ]
  },
  {
   "cell_type": "code",
   "execution_count": 84,
   "metadata": {
    "scrolled": true
   },
   "outputs": [
    {
     "name": "stdout",
     "output_type": "stream",
     "text": [
      "    Language  Population      State\n",
      "0      Hindi          36  Rajasthan\n",
      "1    Punjabi          44     Punjab\n",
      "2     Telugu          67     Andhra\n",
      "3    Kannada          89  Karnataka\n",
      "4  Malayalam          34     Kerala\n",
      "===============================\n",
      "Index(['State', 'Language', 'Population', 'Per Capita Income'], dtype='object')\n",
      "===============================\n",
      "a    Rajasthan\n",
      "b       Punjab\n",
      "c       Andhra\n",
      "d    Karnataka\n",
      "e       Kerala\n",
      "Name: State, dtype: object\n",
      "===============================\n",
      "a    36\n",
      "b    44\n",
      "c    67\n",
      "d    89\n",
      "e    34\n",
      "Name: Population, dtype: int64\n",
      "===============================\n",
      "State                Karnataka\n",
      "Language               Kannada\n",
      "Population                  89\n",
      "Per Capita Income          NaN\n",
      "Name: d, dtype: object\n",
      "===============================\n",
      "       State   Language  Population Per Capita Income\n",
      "a  Rajasthan      Hindi          36               NaN\n",
      "b     Punjab    Punjabi          44               NaN\n",
      "c     Andhra     Telugu          67               NaN\n",
      "d  Karnataka    Kannada          89               NaN\n",
      "e     Kerala  Malayalam          34               NaN\n",
      "       State   Language  Population  Per Capita Income\n",
      "a  Rajasthan      Hindi          36                 99\n",
      "b     Punjab    Punjabi          44                 99\n",
      "c     Andhra     Telugu          67                 99\n",
      "d  Karnataka    Kannada          89                 99\n",
      "e     Kerala  Malayalam          34                 99\n",
      "===============================\n"
     ]
    },
    {
     "name": "stderr",
     "output_type": "stream",
     "text": [
      "D:\\001_Work\\Anaconda\\lib\\site-packages\\ipykernel_launcher.py:21: DeprecationWarning: \n",
      ".ix is deprecated. Please use\n",
      ".loc for label based indexing or\n",
      ".iloc for positional indexing\n",
      "\n",
      "See the documentation here:\n",
      "http://pandas.pydata.org/pandas-docs/stable/indexing.html#deprecate_ix\n"
     ]
    },
    {
     "ename": "NameError",
     "evalue": "name 'np' is not defined",
     "output_type": "error",
     "traceback": [
      "\u001b[1;31m---------------------------------------------------------------------------\u001b[0m",
      "\u001b[1;31mNameError\u001b[0m                                 Traceback (most recent call last)",
      "\u001b[1;32m<ipython-input-84-7e8ae7b91130>\u001b[0m in \u001b[0;36m<module>\u001b[1;34m()\u001b[0m\n\u001b[0;32m     27\u001b[0m \u001b[1;33m\u001b[0m\u001b[0m\n\u001b[0;32m     28\u001b[0m \u001b[0mprint\u001b[0m\u001b[1;33m(\u001b[0m\u001b[1;34m\"===============================\"\u001b[0m\u001b[1;33m)\u001b[0m\u001b[1;33m\u001b[0m\u001b[0m\n\u001b[1;32m---> 29\u001b[1;33m \u001b[0mnew_frame\u001b[0m\u001b[1;33m[\u001b[0m\u001b[1;34m'Per Capita Income'\u001b[0m\u001b[1;33m]\u001b[0m \u001b[1;33m=\u001b[0m \u001b[0mnp\u001b[0m\u001b[1;33m.\u001b[0m\u001b[0marange\u001b[0m\u001b[1;33m(\u001b[0m\u001b[1;36m5\u001b[0m\u001b[1;33m)\u001b[0m \u001b[1;31m# assigning a value to the last column\u001b[0m\u001b[1;33m\u001b[0m\u001b[0m\n\u001b[0m\u001b[0;32m     30\u001b[0m \u001b[0mprint\u001b[0m\u001b[1;33m(\u001b[0m\u001b[0mnew_frame\u001b[0m\u001b[1;33m)\u001b[0m\u001b[1;33m\u001b[0m\u001b[0m\n\u001b[0;32m     31\u001b[0m \u001b[1;33m\u001b[0m\u001b[0m\n",
      "\u001b[1;31mNameError\u001b[0m: name 'np' is not defined"
     ]
    }
   ],
   "source": [
    "states ={'State' :['Rajasthan', 'Punjab', ' Andhra', 'Karnataka', 'Kerala'],\n",
    "                  'Population': [36, 44, 67,89,34],\n",
    "                  'Language' :['Hindi', 'Punjabi', 'Telugu', 'Kannada', 'Malayalam']}\n",
    "india = DataFrame(states)\n",
    "print(india)\n",
    "\n",
    "DataFrame(states, columns=['State', 'Language', 'Population']) # change the sequence of column index\n",
    "\n",
    "new_frame = DataFrame(states, columns=['State', 'Language', 'Population', 'Per Capita Income'], index =['a','b','c','d','e'])\n",
    "#if you pass a column that isnt in states, it will appear with Na values\n",
    "print(\"===============================\")\n",
    "print(new_frame.columns)\n",
    "\n",
    "print(\"===============================\")\n"
   ]
  },
  {
   "cell_type": "code",
   "execution_count": 85,
   "metadata": {},
   "outputs": [
    {
     "name": "stdout",
     "output_type": "stream",
     "text": [
      "a    Rajasthan\n",
      "b       Punjab\n",
      "c       Andhra\n",
      "d    Karnataka\n",
      "e       Kerala\n",
      "Name: State, dtype: object\n",
      "===============================\n",
      "a    36\n",
      "b    44\n",
      "c    67\n",
      "d    89\n",
      "e    34\n",
      "Name: Population, dtype: int64\n",
      "===============================\n",
      "State                Karnataka\n",
      "Language               Kannada\n",
      "Population                  89\n",
      "Per Capita Income           99\n",
      "Name: d, dtype: object\n"
     ]
    }
   ],
   "source": [
    "print(new_frame['State'])\n",
    "\n",
    "print(\"===============================\")\n",
    "print(new_frame.Population)\n",
    "\n",
    "print(\"===============================\")\n",
    "print(new_frame.ix[3]) # retrieved 3rd row\n",
    "\n"
   ]
  },
  {
   "cell_type": "code",
   "execution_count": 86,
   "metadata": {},
   "outputs": [
    {
     "name": "stdout",
     "output_type": "stream",
     "text": [
      "State                Karnataka\n",
      "Language               Kannada\n",
      "Population                  89\n",
      "Per Capita Income           99\n",
      "Name: d, dtype: object\n",
      "State                Karnataka\n",
      "Language               Kannada\n",
      "Population                  89\n",
      "Per Capita Income           99\n",
      "Name: d, dtype: object\n",
      "State                 Andhra\n",
      "Language              Telugu\n",
      "Population                67\n",
      "Per Capita Income         99\n",
      "Name: c, dtype: object\n"
     ]
    }
   ],
   "source": [
    "print(new_frame.ix[3]) # retrieved 3rd row\n",
    "\n",
    "print(new_frame.iloc[3])\n",
    "\n",
    "print(new_frame.loc['c'])"
   ]
  },
  {
   "cell_type": "code",
   "execution_count": 87,
   "metadata": {},
   "outputs": [
    {
     "name": "stdout",
     "output_type": "stream",
     "text": [
      "===============================\n",
      "       State   Language  Population  Per Capita Income\n",
      "a  Rajasthan      Hindi          36                 99\n",
      "b     Punjab    Punjabi          44                 99\n",
      "c     Andhra     Telugu          67                 99\n",
      "d  Karnataka    Kannada          89                 99\n",
      "e     Kerala  Malayalam          34                 99\n",
      "       State   Language  Population  Per Capita Income\n",
      "a  Rajasthan      Hindi          36                 99\n",
      "b     Punjab    Punjabi          44                 99\n",
      "c     Andhra     Telugu          67                 99\n",
      "d  Karnataka    Kannada          89                 99\n",
      "e     Kerala  Malayalam          34                 99\n",
      "===============================\n"
     ]
    },
    {
     "ename": "NameError",
     "evalue": "name 'np' is not defined",
     "output_type": "error",
     "traceback": [
      "\u001b[1;31m---------------------------------------------------------------------------\u001b[0m",
      "\u001b[1;31mNameError\u001b[0m                                 Traceback (most recent call last)",
      "\u001b[1;32m<ipython-input-87-943b2ac341a3>\u001b[0m in \u001b[0;36m<module>\u001b[1;34m()\u001b[0m\n\u001b[0;32m      5\u001b[0m \u001b[1;33m\u001b[0m\u001b[0m\n\u001b[0;32m      6\u001b[0m \u001b[0mprint\u001b[0m\u001b[1;33m(\u001b[0m\u001b[1;34m\"===============================\"\u001b[0m\u001b[1;33m)\u001b[0m\u001b[1;33m\u001b[0m\u001b[0m\n\u001b[1;32m----> 7\u001b[1;33m \u001b[0mnew_frame\u001b[0m\u001b[1;33m[\u001b[0m\u001b[1;34m'Per Capita Income'\u001b[0m\u001b[1;33m]\u001b[0m \u001b[1;33m=\u001b[0m \u001b[0mnp\u001b[0m\u001b[1;33m.\u001b[0m\u001b[0marange\u001b[0m\u001b[1;33m(\u001b[0m\u001b[1;36m5\u001b[0m\u001b[1;33m)\u001b[0m \u001b[1;31m# assigning a value to the last column\u001b[0m\u001b[1;33m\u001b[0m\u001b[0m\n\u001b[0m\u001b[0;32m      8\u001b[0m \u001b[0mprint\u001b[0m\u001b[1;33m(\u001b[0m\u001b[0mnew_frame\u001b[0m\u001b[1;33m)\u001b[0m\u001b[1;33m\u001b[0m\u001b[0m\n\u001b[0;32m      9\u001b[0m \u001b[1;33m\u001b[0m\u001b[0m\n",
      "\u001b[1;31mNameError\u001b[0m: name 'np' is not defined"
     ]
    }
   ],
   "source": [
    "print(\"===============================\")\n",
    "print(new_frame)\n",
    "new_frame['Per Capita Income'] = 99 # the empty per capita income column can be assigned a value\n",
    "print(new_frame)\n",
    "\n",
    "print(\"===============================\")\n",
    "new_frame['Per Capita Income'] = np.arange(5) # assigning a value to the last column\n",
    "print(new_frame)\n",
    "\n"
   ]
  },
  {
   "cell_type": "code",
   "execution_count": 88,
   "metadata": {},
   "outputs": [
    {
     "name": "stdout",
     "output_type": "stream",
     "text": [
      "===============================\n",
      "       State   Language  Population  Per Capita Income\n",
      "a  Rajasthan      Hindi          36                NaN\n",
      "b     Punjab    Punjabi          44               44.0\n",
      "c     Andhra     Telugu          67               33.0\n",
      "d  Karnataka    Kannada          89               22.0\n",
      "e     Kerala  Malayalam          34                NaN\n",
      "===============================\n",
      "       State   Language  Population  Per Capita Income  Development\n",
      "a  Rajasthan      Hindi          36                NaN        False\n",
      "b     Punjab    Punjabi          44               44.0        False\n",
      "c     Andhra     Telugu          67               33.0        False\n",
      "d  Karnataka    Kannada          89               22.0         True\n",
      "e     Kerala  Malayalam          34                NaN        False\n",
      "       State   Language  Population  Per Capita Income\n",
      "a  Rajasthan      Hindi          36                NaN\n",
      "b     Punjab    Punjabi          44               44.0\n",
      "c     Andhra     Telugu          67               33.0\n",
      "d  Karnataka    Kannada          89               22.0\n",
      "e     Kerala  Malayalam          34                NaN\n"
     ]
    }
   ],
   "source": [
    "print(\"===============================\")\n",
    "series = Series([44,33,22], index =['b','c','d'])\n",
    "new_frame['Per Capita Income'] = series\n",
    "#when assigning list or arrays to a column, the values lenght should match the length of the DataFrame\n",
    "print(new_frame)\n",
    "\n",
    "print(\"===============================\")\n",
    "new_frame['Development'] = new_frame.State == 'Karnataka'# assigning a new column\n",
    "print(new_frame)\n",
    "del new_frame['Development'] # will delete the column 'Development'\n",
    "print(new_frame)\n"
   ]
  },
  {
   "cell_type": "code",
   "execution_count": null,
   "metadata": {
    "collapsed": true
   },
   "outputs": [],
   "source": [
    "\n",
    "print(\"===============================\")\n",
    "new_data ={'Modi': {2010: 72, 2012: 78, 2014 : 98},'Rahul': {2010: 28, 2012: 22, 2014: 2}}\n",
    "elections = DataFrame(new_data) \n",
    "print(elections)# the outer dict keys are columns and inner dict keys are rows\n",
    "print(elections.T) # transpose of a data frame"
   ]
  },
  {
   "cell_type": "markdown",
   "metadata": {},
   "source": [
    "### Selection, Indexing and Filtering"
   ]
  },
  {
   "cell_type": "code",
   "execution_count": 26,
   "metadata": {},
   "outputs": [
    {
     "name": "stdout",
     "output_type": "stream",
     "text": [
      "5    Python\n",
      "4      Java\n",
      "3         c\n",
      "2       c++\n",
      "1       Php\n",
      "dtype: object\n",
      "===============\n",
      "Python\n",
      "-------------------\n",
      "3      c\n",
      "2    c++\n",
      "dtype: object\n",
      "-------------------\n",
      "3      c\n",
      "2    c++\n",
      "1    Php\n",
      "dtype: object\n",
      "-------------------\n",
      "1    Php\n",
      "dtype: object\n",
      "===============\n"
     ]
    }
   ],
   "source": [
    "var = Series(['Python', 'Java', 'c', 'c++', 'Php'], index =[5,4,3,2,1])\n",
    "print(var)\n",
    "print(\"===============\")\n",
    "print(var[5])\n",
    "print(\"-------------------\")\n",
    "print(var[2:4])\n",
    "print(\"-------------------\")\n",
    "print(var[[3,2,1]])\n",
    "print(\"-------------------\")\n",
    "print(var[var == 'Php'])\n",
    "print(\"===============\")"
   ]
  },
  {
   "cell_type": "code",
   "execution_count": 32,
   "metadata": {},
   "outputs": [
    {
     "name": "stdout",
     "output_type": "stream",
     "text": [
      "       State  Population   Language\n",
      "0  Rajasthan          36      Hindi\n",
      "1     Punjab          44    Punjabi\n",
      "2     Andhra          67     Telugu\n",
      "3  Karnataka          89    Kannada\n",
      "4     Kerala          34  Malayalam\n",
      "----------------------\n",
      "   Population   Language\n",
      "0          36      Hindi\n",
      "1          44    Punjabi\n",
      "2          67     Telugu\n",
      "3          89    Kannada\n",
      "4          34  Malayalam\n",
      "----------------------\n",
      "       State  Population Language\n",
      "2     Andhra          67   Telugu\n",
      "3  Karnataka          89  Kannada\n",
      "----------------------\n",
      "       State  Population Language\n",
      "0  Rajasthan          36    Hindi\n",
      "1     Punjab          44  Punjabi\n",
      "2     Andhra          67   Telugu\n",
      "----------------------\n"
     ]
    },
    {
     "data": {
      "text/html": [
       "<div>\n",
       "<style>\n",
       "    .dataframe thead tr:only-child th {\n",
       "        text-align: right;\n",
       "    }\n",
       "\n",
       "    .dataframe thead th {\n",
       "        text-align: left;\n",
       "    }\n",
       "\n",
       "    .dataframe tbody tr th {\n",
       "        vertical-align: top;\n",
       "    }\n",
       "</style>\n",
       "<table border=\"1\" class=\"dataframe\">\n",
       "  <thead>\n",
       "    <tr style=\"text-align: right;\">\n",
       "      <th></th>\n",
       "      <th>Population</th>\n",
       "      <th>Language</th>\n",
       "    </tr>\n",
       "  </thead>\n",
       "  <tbody>\n",
       "    <tr>\n",
       "      <th>1</th>\n",
       "      <td>44</td>\n",
       "      <td>Punjabi</td>\n",
       "    </tr>\n",
       "    <tr>\n",
       "      <th>2</th>\n",
       "      <td>67</td>\n",
       "      <td>Telugu</td>\n",
       "    </tr>\n",
       "  </tbody>\n",
       "</table>\n",
       "</div>"
      ],
      "text/plain": [
       "   Population Language\n",
       "1          44  Punjabi\n",
       "2          67   Telugu"
      ]
     },
     "execution_count": 32,
     "metadata": {},
     "output_type": "execute_result"
    }
   ],
   "source": [
    "states ={'State' :['Rajasthan', 'Punjab', ' Andhra', 'Karnataka', 'Kerala'],\n",
    "                  'Population': [36, 44, 67,89,34],\n",
    "                  'Language' :['Hindi', 'Punjabi', 'Telugu', 'Kannada', 'Malayalam']}\n",
    "india = DataFrame(states, columns =['State', 'Population', 'Language'])\n",
    "print(india)\n",
    "print(\"----------------------\")\n",
    "print(india[['Population', 'Language']]) # retrieve data from data frame\n",
    "print(\"----------------------\")\n",
    "print(india[india['Population'] > 50]) # returns data for population greater than 50\n",
    "print(\"----------------------\")\n",
    "print(india[:3]) # first three rows\n",
    "print(\"----------------------\")\n",
    "india.iloc[[1,2], [1,2]] # this is how you select subset of rows"
   ]
  },
  {
   "cell_type": "markdown",
   "metadata": {},
   "source": [
    "### Loading CSV as dataframes"
   ]
  },
  {
   "cell_type": "code",
   "execution_count": 89,
   "metadata": {},
   "outputs": [
    {
     "name": "stdout",
     "output_type": "stream",
     "text": [
      "       state   language\n",
      "0  Rajasthan      Hindi\n",
      "1     Punjab    Punjabi\n",
      "2     Andhra     Telugu\n",
      "3  Karnataka    Kannada\n",
      "4     Kerala  Malayalam\n",
      "5     Kerala  Malayalam\n",
      "6     Kerala  Malayalam\n",
      "============type============\n",
      "<class 'pandas.core.frame.DataFrame'>\n",
      "==============Dropping duplicates==================\n",
      "       state   language\n",
      "0  Rajasthan      Hindi\n",
      "1     Punjab    Punjabi\n",
      "2     Andhra     Telugu\n",
      "3  Karnataka    Kannada\n",
      "4     Kerala  Malayalam\n"
     ]
    }
   ],
   "source": [
    "csvfile = pd.read_csv(\"pandas.csv\")\n",
    "\n",
    "print(csvfile)\n",
    "print(\"============type============\")\n",
    "print(type(csvfile))\n",
    "print(\"==============Dropping duplicates==================\")\n",
    "print(csvfile.drop_duplicates())\n"
   ]
  },
  {
   "cell_type": "markdown",
   "metadata": {},
   "source": [
    "### Group by "
   ]
  },
  {
   "cell_type": "code",
   "execution_count": 29,
   "metadata": {},
   "outputs": [
    {
     "name": "stdout",
     "output_type": "stream",
     "text": [
      "<pandas.core.groupby.DataFrameGroupBy object at 0x0000000004829080>\n",
      "==================\n",
      "{'A': Int64Index([2, 3], dtype='int64'), 'B': Int64Index([0, 1], dtype='int64')}\n",
      "==================\n",
      "   X  Y\n",
      "2  A  3\n",
      "3  A  4\n",
      "   X  Y\n",
      "0  B  1\n",
      "1  B  2\n",
      "==================\n",
      "   Y\n",
      "X   \n",
      "A  7\n",
      "B  3\n",
      "==================\n",
      "   Y\n",
      "X   \n",
      "B  3\n",
      "A  7\n"
     ]
    },
    {
     "data": {
      "text/plain": [
       "<pandas.plotting._core.FramePlotMethods object at 0x0000000004829400>"
      ]
     },
     "execution_count": 29,
     "metadata": {},
     "output_type": "execute_result"
    }
   ],
   "source": [
    "df_group = pd.DataFrame({'X' : ['B', 'B', 'A', 'A'], 'Y' : [1, 2, 3, 4]})\n",
    "print(df_group.groupby(['X']))\n",
    "print(\"==================\")\n",
    "print(df_group.groupby(['X']).groups)\n",
    "print(\"==================\")\n",
    "print(df_group.groupby(['X']).get_group('A'))\n",
    "print(df_group.groupby(['X']).get_group('B'))\n",
    "print(\"==================\")\n",
    "print(df_group.groupby(['X']).sum())\n",
    "print(\"==================\")\n",
    "print(df_group.groupby(['X'], sort=False).sum())"
   ]
  },
  {
   "cell_type": "markdown",
   "metadata": {},
   "source": [
    "### Merge, join, concat"
   ]
  },
  {
   "cell_type": "code",
   "execution_count": 45,
   "metadata": {},
   "outputs": [
    {
     "name": "stdout",
     "output_type": "stream",
     "text": [
      "    A   B   C   D\n",
      "0  A0  B0  C0  D0\n",
      "1  A1  B1  C1  D1\n",
      "2  A2  B2  C2  D2\n",
      "3  A3  B3  C3  D3\n",
      "0  A0  B0  C0  D0\n",
      "1  A1  B1  C1  D1\n",
      "2  A2  B2  C2  D2\n",
      "3  A3  B3  C3  D3\n",
      "    A   B   C   D\n",
      "0  A0  B0  C0  D0\n",
      "1  A1  B1  C1  D1\n",
      "2  A2  B2  C2  D2\n",
      "3  A3  B3  C3  D3\n",
      "4  A4  B4  C4  D4\n",
      "5  A5  B5  C5  D5\n",
      "6  A6  B6  C6  D6\n",
      "7  A7  B7  C7  D7\n",
      "      A   B   C   D\n",
      "A 0  A0  B0  C0  D0\n",
      "  1  A1  B1  C1  D1\n",
      "  2  A2  B2  C2  D2\n",
      "  3  A3  B3  C3  D3\n",
      "    A   B   C   D\n",
      "0  A0  B0  C0  D0\n",
      "1  A1  B1  C1  D1\n",
      "2  A2  B2  C2  D2\n",
      "3  A3  B3  C3  D3\n"
     ]
    }
   ],
   "source": [
    "df1 = pd.DataFrame({'A': ['A0', 'A1', 'A2', 'A3'],\n",
    "                        'B': ['B0', 'B1', 'B2', 'B3'],\n",
    "                        'C': ['C0', 'C1', 'C2', 'C3'],\n",
    "                        'D': ['D0', 'D1', 'D2', 'D3']},\n",
    "                        index=[0, 1, 2, 3])\n",
    "\n",
    "df2 = pd.DataFrame({'A': ['A4', 'A5', 'A6', 'A7'],\n",
    "                        'B': ['B4', 'B5', 'B6', 'B7'],\n",
    "                        'C': ['C4', 'C5', 'C6', 'C7'],\n",
    "                        'D': ['D4', 'D5', 'D6', 'D7']},\n",
    "                         index=[4, 5, 6, 7])\n",
    "\n",
    "print(pd.concat([df1,df1]))\n",
    "print(pd.concat([df1,df2]))\n",
    "print(pd.concat([df1,df1], join='outer', keys=['A']))\n",
    "print(pd.merge(df1,df1))\n"
   ]
  },
  {
   "cell_type": "code",
   "execution_count": 55,
   "metadata": {},
   "outputs": [
    {
     "name": "stdout",
     "output_type": "stream",
     "text": [
      "   data1 key  data2\n",
      "0      0   b      1\n",
      "1      1   b      1\n",
      "2      6   b      1\n",
      "3      2   a      0\n",
      "4      4   a      0\n",
      "5      5   a      0\n",
      "========================\n",
      "   data1  data2 key\n",
      "0    0.0    NaN   b\n",
      "1    1.0    NaN   b\n",
      "2    2.0    NaN   a\n",
      "3    3.0    NaN   c\n",
      "4    4.0    NaN   a\n",
      "5    5.0    NaN   a\n",
      "6    6.0    NaN   b\n",
      "0    NaN    0.0   a\n",
      "1    NaN    1.0   b\n",
      "2    NaN    2.0   d\n"
     ]
    }
   ],
   "source": [
    "print(\"Difference between concat and merge\")\n",
    "randDf1 = pd.DataFrame({'key': ['b', 'b', 'a', 'c', 'a', 'a', 'b'], 'data1': range(7)})\n",
    "randDf2 = pd.DataFrame({'key': ['a', 'b', 'd'], 'data2': range(3)})\n",
    "\n",
    "print(pd.merge(randDf1, randDf2))\n",
    "# print(pd.merge(randDf1, randDf2, on='key'))\n",
    "print(\"========================\")\n",
    "print(pd.concat([randDf1, randDf2]))"
   ]
  },
  {
   "attachments": {
    "image.png": {
     "image/png": "[encoded data removed]"
    },
    "join-types-merge-names.jpg": {
     "image/jpeg": "[encoded data removed]"
    }
   },
   "cell_type": "markdown",
   "metadata": {},
   "source": [
    "Merge is equivalent join in sql\n",
    "\n",
    "![image.png](attachment:image.png)\n",
    "![join-types-merge-names.jpg](attachment:join-types-merge-names.jpg)"
   ]
  },
  {
   "cell_type": "code",
   "execution_count": 60,
   "metadata": {},
   "outputs": [
    {
     "name": "stdout",
     "output_type": "stream",
     "text": [
      "   data1 key  data2\n",
      "0      0   b    1.0\n",
      "1      1   b    1.0\n",
      "2      2   a    0.0\n",
      "3      3   c    NaN\n",
      "4      4   a    0.0\n",
      "5      5   a    0.0\n",
      "6      6   b    1.0\n",
      "=============================\n",
      "   data1 key  data2\n",
      "0    0.0   b      1\n",
      "1    1.0   b      1\n",
      "2    6.0   b      1\n",
      "3    2.0   a      0\n",
      "4    4.0   a      0\n",
      "5    5.0   a      0\n",
      "6    NaN   d      2\n",
      "=============================\n",
      "   data1 key  data2\n",
      "0    0.0   b    1.0\n",
      "1    1.0   b    1.0\n",
      "2    6.0   b    1.0\n",
      "3    2.0   a    0.0\n",
      "4    4.0   a    0.0\n",
      "5    5.0   a    0.0\n",
      "6    3.0   c    NaN\n",
      "7    NaN   d    2.0\n",
      "=============================\n",
      "   data1 key  data2\n",
      "0      0   b      1\n",
      "1      1   b      1\n",
      "2      6   b      1\n",
      "3      2   a      0\n",
      "4      4   a      0\n",
      "5      5   a      0\n"
     ]
    }
   ],
   "source": [
    "print(pd.merge(randDf1, randDf2, how='left', on='key'))\n",
    "print(\"=============================\")\n",
    "print(pd.merge(randDf1, randDf2, how='right', on='key'))\n",
    "print(\"=============================\")\n",
    "print(pd.merge(randDf1, randDf2, how='outer', on='key'))\n",
    "print(\"=============================\")\n",
    "print(pd.merge(randDf1, randDf2, how='inner', on='key'))"
   ]
  },
  {
   "cell_type": "code",
   "execution_count": 82,
   "metadata": {},
   "outputs": [
    {
     "data": {
      "text/html": [
       "<div>\n",
       "<style>\n",
       "    .dataframe thead tr:only-child th {\n",
       "        text-align: right;\n",
       "    }\n",
       "\n",
       "    .dataframe thead th {\n",
       "        text-align: left;\n",
       "    }\n",
       "\n",
       "    .dataframe tbody tr th {\n",
       "        vertical-align: top;\n",
       "    }\n",
       "</style>\n",
       "<table border=\"1\" class=\"dataframe\">\n",
       "  <thead>\n",
       "    <tr style=\"text-align: right;\">\n",
       "      <th></th>\n",
       "      <th>data1</th>\n",
       "      <th>key</th>\n",
       "      <th>data2</th>\n",
       "      <th>_merge</th>\n",
       "    </tr>\n",
       "  </thead>\n",
       "  <tbody>\n",
       "    <tr>\n",
       "      <th>0</th>\n",
       "      <td>0.0</td>\n",
       "      <td>b</td>\n",
       "      <td>1.0</td>\n",
       "      <td>both</td>\n",
       "    </tr>\n",
       "    <tr>\n",
       "      <th>1</th>\n",
       "      <td>1.0</td>\n",
       "      <td>b</td>\n",
       "      <td>1.0</td>\n",
       "      <td>both</td>\n",
       "    </tr>\n",
       "    <tr>\n",
       "      <th>2</th>\n",
       "      <td>6.0</td>\n",
       "      <td>b</td>\n",
       "      <td>1.0</td>\n",
       "      <td>both</td>\n",
       "    </tr>\n",
       "    <tr>\n",
       "      <th>3</th>\n",
       "      <td>2.0</td>\n",
       "      <td>a</td>\n",
       "      <td>0.0</td>\n",
       "      <td>both</td>\n",
       "    </tr>\n",
       "    <tr>\n",
       "      <th>4</th>\n",
       "      <td>4.0</td>\n",
       "      <td>a</td>\n",
       "      <td>0.0</td>\n",
       "      <td>both</td>\n",
       "    </tr>\n",
       "    <tr>\n",
       "      <th>5</th>\n",
       "      <td>5.0</td>\n",
       "      <td>a</td>\n",
       "      <td>0.0</td>\n",
       "      <td>both</td>\n",
       "    </tr>\n",
       "    <tr>\n",
       "      <th>6</th>\n",
       "      <td>3.0</td>\n",
       "      <td>c</td>\n",
       "      <td>NaN</td>\n",
       "      <td>left_only</td>\n",
       "    </tr>\n",
       "    <tr>\n",
       "      <th>7</th>\n",
       "      <td>NaN</td>\n",
       "      <td>d</td>\n",
       "      <td>2.0</td>\n",
       "      <td>right_only</td>\n",
       "    </tr>\n",
       "  </tbody>\n",
       "</table>\n",
       "</div>"
      ],
      "text/plain": [
       "   data1 key  data2      _merge\n",
       "0    0.0   b    1.0        both\n",
       "1    1.0   b    1.0        both\n",
       "2    6.0   b    1.0        both\n",
       "3    2.0   a    0.0        both\n",
       "4    4.0   a    0.0        both\n",
       "5    5.0   a    0.0        both\n",
       "6    3.0   c    NaN   left_only\n",
       "7    NaN   d    2.0  right_only"
      ]
     },
     "execution_count": 82,
     "metadata": {},
     "output_type": "execute_result"
    }
   ],
   "source": [
    "pd.merge(randDf1, randDf2, on='key', how='outer', indicator=True)"
   ]
  },
  {
   "cell_type": "code",
   "execution_count": 81,
   "metadata": {},
   "outputs": [
    {
     "data": {
      "text/html": [
       "<div>\n",
       "<style>\n",
       "    .dataframe thead tr:only-child th {\n",
       "        text-align: right;\n",
       "    }\n",
       "\n",
       "    .dataframe thead th {\n",
       "        text-align: left;\n",
       "    }\n",
       "\n",
       "    .dataframe tbody tr th {\n",
       "        vertical-align: top;\n",
       "    }\n",
       "</style>\n",
       "<table border=\"1\" class=\"dataframe\">\n",
       "  <thead>\n",
       "    <tr style=\"text-align: right;\">\n",
       "      <th></th>\n",
       "      <th>data1</th>\n",
       "      <th>key_l</th>\n",
       "      <th>data2</th>\n",
       "      <th>key</th>\n",
       "    </tr>\n",
       "  </thead>\n",
       "  <tbody>\n",
       "    <tr>\n",
       "      <th>0</th>\n",
       "      <td>0.0</td>\n",
       "      <td>b</td>\n",
       "      <td>NaN</td>\n",
       "      <td>NaN</td>\n",
       "    </tr>\n",
       "    <tr>\n",
       "      <th>1</th>\n",
       "      <td>1.0</td>\n",
       "      <td>b</td>\n",
       "      <td>NaN</td>\n",
       "      <td>NaN</td>\n",
       "    </tr>\n",
       "    <tr>\n",
       "      <th>6</th>\n",
       "      <td>6.0</td>\n",
       "      <td>b</td>\n",
       "      <td>NaN</td>\n",
       "      <td>NaN</td>\n",
       "    </tr>\n",
       "    <tr>\n",
       "      <th>2</th>\n",
       "      <td>2.0</td>\n",
       "      <td>a</td>\n",
       "      <td>NaN</td>\n",
       "      <td>NaN</td>\n",
       "    </tr>\n",
       "    <tr>\n",
       "      <th>4</th>\n",
       "      <td>4.0</td>\n",
       "      <td>a</td>\n",
       "      <td>NaN</td>\n",
       "      <td>NaN</td>\n",
       "    </tr>\n",
       "    <tr>\n",
       "      <th>5</th>\n",
       "      <td>5.0</td>\n",
       "      <td>a</td>\n",
       "      <td>NaN</td>\n",
       "      <td>NaN</td>\n",
       "    </tr>\n",
       "    <tr>\n",
       "      <th>3</th>\n",
       "      <td>3.0</td>\n",
       "      <td>c</td>\n",
       "      <td>NaN</td>\n",
       "      <td>NaN</td>\n",
       "    </tr>\n",
       "    <tr>\n",
       "      <th>6</th>\n",
       "      <td>NaN</td>\n",
       "      <td>NaN</td>\n",
       "      <td>0.0</td>\n",
       "      <td>0</td>\n",
       "    </tr>\n",
       "    <tr>\n",
       "      <th>6</th>\n",
       "      <td>NaN</td>\n",
       "      <td>NaN</td>\n",
       "      <td>1.0</td>\n",
       "      <td>1</td>\n",
       "    </tr>\n",
       "    <tr>\n",
       "      <th>6</th>\n",
       "      <td>NaN</td>\n",
       "      <td>NaN</td>\n",
       "      <td>2.0</td>\n",
       "      <td>2</td>\n",
       "    </tr>\n",
       "  </tbody>\n",
       "</table>\n",
       "</div>"
      ],
      "text/plain": [
       "   data1 key_l  data2  key\n",
       "0    0.0     b    NaN  NaN\n",
       "1    1.0     b    NaN  NaN\n",
       "6    6.0     b    NaN  NaN\n",
       "2    2.0     a    NaN  NaN\n",
       "4    4.0     a    NaN  NaN\n",
       "5    5.0     a    NaN  NaN\n",
       "3    3.0     c    NaN  NaN\n",
       "6    NaN   NaN    0.0    0\n",
       "6    NaN   NaN    1.0    1\n",
       "6    NaN   NaN    2.0    2"
      ]
     },
     "execution_count": 81,
     "metadata": {},
     "output_type": "execute_result"
    }
   ],
   "source": [
    "randDf1.join(randDf2, on='key', how='outer', lsuffix='_l')"
   ]
  },
  {
   "cell_type": "markdown",
   "metadata": {},
   "source": [
    "#### References\n",
    "https://pandas.pydata.org/pandas-docs/stable/groupby.html\n",
    "https://pandas.pydata.org/pandas-docs/stable/merging.html"
   ]
  }
 ],
 "metadata": {
  "kernelspec": {
   "display_name": "Python 3",
   "language": "python",
   "name": "python3"
  },
  "language_info": {
   "codemirror_mode": {
    "name": "ipython",
    "version": 3
   },
   "file_extension": ".py",
   "mimetype": "text/x-python",
   "name": "python",
   "nbconvert_exporter": "python",
   "pygments_lexer": "ipython3",
   "version": "3.6.1"
  }
 },
 "nbformat": 4,
 "nbformat_minor": 2
}
