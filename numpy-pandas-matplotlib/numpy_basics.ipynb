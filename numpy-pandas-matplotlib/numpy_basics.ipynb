{
 "cells": [
  {
   "cell_type": "markdown",
   "metadata": {
    "collapsed": true
   },
   "source": [
    "# Numpy Basics\n",
    "\n",
    "Numpy provide support for large, multi-dimensional arrays and matrices.\n",
    "\n",
    "## Arrays\n",
    "### Introduction to Arrays\n",
    "#### Importing, declaration, printing, using, type etc."
   ]
  },
  {
   "cell_type": "code",
   "execution_count": 28,
   "metadata": {},
   "outputs": [
    {
     "name": "stdout",
     "output_type": "stream",
     "text": [
      "\n",
      " 1-D Arrays\n",
      "================\n",
      "\n",
      "[ 1.   2.   3.4  5.   6. ]\n",
      "Type : float64\n",
      "\n",
      " 2-D Arrays\n",
      "================\n",
      "\n",
      "[[1 2 3 4]\n",
      " [4 3 2 1]]\n",
      "Type : int32\n",
      "Dimension : 2\n",
      "Shape : (2, 4)\n"
     ]
    }
   ],
   "source": [
    "import numpy as np # importing numpy and using alias\n",
    "\n",
    "#1-D Array\n",
    "print(\"\\n 1-D Arrays\")\n",
    "print(\"================\\n\")\n",
    "numbers = [1, 2, 3.4, 5, 6]\n",
    "array_numbers = np.array(numbers)\n",
    "\n",
    "# return array of numbers\n",
    "print(array_numbers)\n",
    "\n",
    "# use dtype to get the data type of the array object\n",
    "print(\"Type : \" + str(array_numbers.dtype))\n",
    "\n",
    "#2-D Array\n",
    "print(\"\\n 2-D Arrays\")\n",
    "print(\"================\\n\")\n",
    "numbers_1 = [[1, 2, 3, 4], [4, 3, 2, 1]]\n",
    "array_numbers_1 = np.array(numbers_1)\n",
    "\n",
    "print(array_numbers_1)\n",
    "print(\"Type : \" + str(array_numbers_1.dtype))\n",
    "\n",
    "# use ndim to get the dimensions of an array.\n",
    "print(\"Dimension : \" + str(array_numbers_1.ndim))\n",
    "\n",
    "# use shape function to get number of rows and columns\n",
    "print(\"Shape : \" + str(array_numbers_1.shape))\n"
   ]
  },
  {
   "cell_type": "markdown",
   "metadata": {},
   "source": [
    "#### Initializing the arrays with all zeros"
   ]
  },
  {
   "cell_type": "code",
   "execution_count": 27,
   "metadata": {},
   "outputs": [
    {
     "name": "stdout",
     "output_type": "stream",
     "text": [
      "1-D Array\n",
      "================\n",
      "\n",
      "[ 0.  0.  0.  0.  0.  0.  0.  0.  0.  0.]\n",
      "\n",
      " 2-D Array\n",
      "================\n",
      "\n",
      "[[ 0.  0.  0.]\n",
      " [ 0.  0.  0.]]\n"
     ]
    }
   ],
   "source": [
    "print(\"1-D Array\")\n",
    "print(\"================\\n\")\n",
    "print(np.zeros(10))\n",
    "print(\"\\n 2-D Array\")\n",
    "print(\"================\\n\")\n",
    "print(np.zeros((2,3)))"
   ]
  },
  {
   "cell_type": "markdown",
   "metadata": {},
   "source": [
    "#### Initializing the arrays in 0 to n"
   ]
  },
  {
   "cell_type": "code",
   "execution_count": 30,
   "metadata": {},
   "outputs": [
    {
     "data": {
      "text/plain": [
       "array([0, 1, 2, 3, 4, 5, 6, 7, 8, 9])"
      ]
     },
     "execution_count": 30,
     "metadata": {},
     "output_type": "execute_result"
    }
   ],
   "source": [
    "np.arange(10)"
   ]
  },
  {
   "cell_type": "markdown",
   "metadata": {},
   "source": [
    "#### Create a square N x N identity matrix\n",
    "1’s on the diagonal and 0’s elsewhere"
   ]
  },
  {
   "cell_type": "code",
   "execution_count": 31,
   "metadata": {},
   "outputs": [
    {
     "data": {
      "text/plain": [
       "array([[ 1.,  0.,  0.,  0.,  0.,  0.,  0.,  0.,  0.,  0.],\n",
       "       [ 0.,  1.,  0.,  0.,  0.,  0.,  0.,  0.,  0.,  0.],\n",
       "       [ 0.,  0.,  1.,  0.,  0.,  0.,  0.,  0.,  0.,  0.],\n",
       "       [ 0.,  0.,  0.,  1.,  0.,  0.,  0.,  0.,  0.,  0.],\n",
       "       [ 0.,  0.,  0.,  0.,  1.,  0.,  0.,  0.,  0.,  0.],\n",
       "       [ 0.,  0.,  0.,  0.,  0.,  1.,  0.,  0.,  0.,  0.],\n",
       "       [ 0.,  0.,  0.,  0.,  0.,  0.,  1.,  0.,  0.,  0.],\n",
       "       [ 0.,  0.,  0.,  0.,  0.,  0.,  0.,  1.,  0.,  0.],\n",
       "       [ 0.,  0.,  0.,  0.,  0.,  0.,  0.,  0.,  1.,  0.],\n",
       "       [ 0.,  0.,  0.,  0.,  0.,  0.,  0.,  0.,  0.,  1.]])"
      ]
     },
     "execution_count": 31,
     "metadata": {},
     "output_type": "execute_result"
    }
   ],
   "source": [
    "np.eye(10)"
   ]
  },
  {
   "attachments": {},
   "cell_type": "markdown",
   "metadata": {},
   "source": [
    "#### Basic Mathematical Array Operations"
   ]
  },
  {
   "cell_type": "code",
   "execution_count": 34,
   "metadata": {},
   "outputs": [
    {
     "name": "stdout",
     "output_type": "stream",
     "text": [
      "[1 2 3 5 6]\n",
      "[ 1  4  9 25 36]\n",
      "[0 0 0 0 0]\n",
      "[ 1.          0.5         0.33333333  0.2         0.16666667]\n",
      "[ 1.          1.41421356  1.73205081  2.23606798  2.44948974]\n"
     ]
    }
   ],
   "source": [
    "numbers = [1, 2, 3, 5, 6]\n",
    "array_numbers = np.array(numbers)\n",
    "\n",
    "#print array as is\n",
    "print(array_numbers)\n",
    "\n",
    "print(array_numbers * array_numbers)\n",
    "print(array_numbers - array_numbers)\n",
    "print(1/(array_numbers))\n",
    "print(array_numbers ** 0.5)"
   ]
  },
  {
   "attachments": {
    "arrays.png": {
     "image/png": "[encoded data removed]"
    }
   },
   "cell_type": "markdown",
   "metadata": {},
   "source": [
    "![arrays.png](attachment:arrays.png)"
   ]
  },
  {
   "cell_type": "markdown",
   "metadata": {},
   "source": [
    "#### Indexing and Slicing\n",
    "\n",
    "Selecting subset of data"
   ]
  },
  {
   "cell_type": "code",
   "execution_count": 38,
   "metadata": {},
   "outputs": [
    {
     "name": "stdout",
     "output_type": "stream",
     "text": [
      "[0 1 2 3 4 5 6 7 8 9]\n",
      "5\n",
      "[1 2]\n",
      "[  0 100 100   3   4   5   6   7   8   9]\n",
      "\n",
      "Example\n",
      "[  0 100 111   3   4   5   6   7   8   9]\n",
      "[100 111]\n",
      "[  0 100 111   3   4   5   6   7   8   9]\n"
     ]
    }
   ],
   "source": [
    "arr = np.arange(10)\n",
    "print(arr)\n",
    "print(arr[5])\n",
    "print(arr[1:3])\n",
    "\n",
    "# assinging subset to 100\n",
    "arr[1:3] = 100\n",
    "print(arr)\n",
    "\n",
    "# data manipulation example\n",
    "print(\"\\nExample\")\n",
    "\n",
    "temp = arr[1:3]\n",
    "temp[1] = 111\n",
    "print(arr)\n",
    "print(temp)\n",
    "print(arr[:])"
   ]
  },
  {
   "cell_type": "code",
   "execution_count": 41,
   "metadata": {},
   "outputs": [
    {
     "name": "stdout",
     "output_type": "stream",
     "text": [
      "[[[ 1  2  3]\n",
      "  [ 4  5  6]]\n",
      "\n",
      " [[ 7  8  9]\n",
      "  [10 11 12]]]\n",
      "=====================\n",
      "[[1 2 3]\n",
      " [4 5 6]]\n",
      "=====================\n",
      "New value of three_d_arr: [[[99 99 99]\n",
      "  [99 99 99]]\n",
      "\n",
      " [[ 7  8  9]\n",
      "  [10 11 12]]]\n",
      "=====================\n",
      " three_d_arr again: [[[ 1  2  3]\n",
      "  [ 4  5  6]]\n",
      "\n",
      " [[ 7  8  9]\n",
      "  [10 11 12]]]\n"
     ]
    }
   ],
   "source": [
    "three_d_arr = np.array([[[1, 2, 3], [4, 5, 6]], [[7, 8, 9], [10, 11, 12]]])\n",
    "print(three_d_arr)\n",
    "print(\"=====================\")\n",
    "print(three_d_arr[0])\n",
    "\n",
    "# copy arr[0] value to copied_values\n",
    "copied_values = three_d_arr[0].copy() \n",
    "\n",
    "# change all values of arr[0] to 99 \n",
    "three_d_arr[0]= 99  \n",
    "\n",
    "# check the new value of three_d_arr \n",
    "print(\"=====================\")\n",
    "print(\"New value of three_d_arr: {}\".format(three_d_arr))\n",
    "\n",
    "# assign copied values back to three_d_arr[0]\n",
    "three_d_arr[0] = copied_values \n",
    "print(\"=====================\")\n",
    "print(\" three_d_arr again: {}\".format(three_d_arr))\n",
    "\n"
   ]
  },
  {
   "cell_type": "code",
   "execution_count": 42,
   "metadata": {},
   "outputs": [
    {
     "name": "stdout",
     "output_type": "stream",
     "text": [
      "=====================\n",
      "The original matrix [[3 4 5]\n",
      " [6 7 8]\n",
      " [9 5 1]]:\n",
      "slices the first two rows:[[3 4 5]\n",
      " [6 7 8]]\n",
      "Slices the first two rows and two columns:[[4 5]\n",
      " [7 8]]\n",
      "returns 6 and 7: [6 7]\n",
      "Returns first column: [[3]\n",
      " [6]\n",
      " [9]]\n"
     ]
    }
   ],
   "source": [
    "#arrays as matrix\n",
    "matrix_arr =np.array([[3,4,5],[6,7,8],[9,5,1]])\n",
    "print(\"=====================\")\n",
    "print(\"The original matrix: {}\".format(matrix_arr))\n",
    "\n",
    "# similar to list slicing. returns first two rows of the array\n",
    "print(\"slices the first two rows:{}\".format(matrix_arr[:2]))\n",
    "print(\"Slices the first two rows and two columns:{}\".format(matrix_arr[:2, 1:]))\n",
    "print(\"returns 6 and 7: {}\".format(matrix_arr[1,:2]))\n",
    "print(\"Returns first column: {}\".format(matrix_arr[:,:1]))"
   ]
  },
  {
   "cell_type": "code",
   "execution_count": 50,
   "metadata": {},
   "outputs": [
    {
     "name": "stdout",
     "output_type": "stream",
     "text": [
      "[[-0.48286132 -1.06023118  1.22870447  0.5136023 ]\n",
      " [ 1.62907896 -0.19105484 -2.18478866 -1.08567941]\n",
      " [ 0.54965347 -0.70119664 -0.18795897 -0.05403667]\n",
      " [-1.46230736  0.06531863 -0.80582318  1.55403121]\n",
      " [ 0.8362344  -0.62678543  1.27012044  0.68414103]\n",
      " [-0.22404001 -0.64769278 -0.49371667 -1.28889149]\n",
      " [ 1.69929782 -0.23487481  1.64808492 -0.03983941]]\n",
      "==================\n",
      "\n",
      "[ 0  1  2  3  4  5  6  7  8  9 10 11 12 13 14 15 16 17 18 19 20 21 22 23 24\n",
      " 25 26 27 28 29 30 31 32 33 34 35]\n",
      "==================\n",
      "[[ 0  1  2  3]\n",
      " [ 4  5  6  7]\n",
      " [ 8  9 10 11]\n",
      " [12 13 14 15]\n",
      " [16 17 18 19]\n",
      " [20 21 22 23]\n",
      " [24 25 26 27]\n",
      " [28 29 30 31]\n",
      " [32 33 34 35]]\n",
      "==================\n",
      "[[[ 0  1  2  3  4  5]\n",
      "  [ 6  7  8  9 10 11]]\n",
      "\n",
      " [[12 13 14 15 16 17]\n",
      "  [18 19 20 21 22 23]]\n",
      "\n",
      " [[24 25 26 27 28 29]\n",
      "  [30 31 32 33 34 35]]]\n"
     ]
    }
   ],
   "source": [
    "from numpy import random\n",
    "rand_matrix = random.randn(7,4) # returns a matrix of size 7,4\n",
    "print(rand_matrix)\n",
    "print(\"==================\\n\")\n",
    "\n",
    "reshape_array = np.arange(36)\n",
    "print(reshape_array)\n",
    "print(\"==================\")\n",
    "print(reshape_array.reshape(9,4))\n",
    "print(\"==================\")\n",
    "print(reshape_array.reshape(3,2,6))"
   ]
  },
  {
   "cell_type": "code",
   "execution_count": 55,
   "metadata": {},
   "outputs": [
    {
     "name": "stdout",
     "output_type": "stream",
     "text": [
      "[[ 0  1  2  3]\n",
      " [ 4  5  6  7]\n",
      " [ 8  9 10 11]]\n",
      "===================\n",
      "[[ 0  4  8]\n",
      " [ 1  5  9]\n",
      " [ 2  6 10]\n",
      " [ 3  7 11]]\n",
      "===================\n",
      "[[ 80  92 104 116]\n",
      " [ 92 107 122 137]\n",
      " [104 122 140 158]\n",
      " [116 137 158 179]]\n",
      "Help on built-in function dot in module numpy.core.multiarray:\n",
      "\n",
      "dot(...)\n",
      "    dot(a, b, out=None)\n",
      "    \n",
      "    Dot product of two arrays.\n",
      "    \n",
      "    For 2-D arrays it is equivalent to matrix multiplication, and for 1-D\n",
      "    arrays to inner product of vectors (without complex conjugation). For\n",
      "    N dimensions it is a sum product over the last axis of `a` and\n",
      "    the second-to-last of `b`::\n",
      "    \n",
      "        dot(a, b)[i,j,k,m] = sum(a[i,j,:] * b[k,:,m])\n",
      "    \n",
      "    Parameters\n",
      "    ----------\n",
      "    a : array_like\n",
      "        First argument.\n",
      "    b : array_like\n",
      "        Second argument.\n",
      "    out : ndarray, optional\n",
      "        Output argument. This must have the exact kind that would be returned\n",
      "        if it was not used. In particular, it must have the right type, must be\n",
      "        C-contiguous, and its dtype must be the dtype that would be returned\n",
      "        for `dot(a,b)`. This is a performance feature. Therefore, if these\n",
      "        conditions are not met, an exception is raised, instead of attempting\n",
      "        to be flexible.\n",
      "    \n",
      "    Returns\n",
      "    -------\n",
      "    output : ndarray\n",
      "        Returns the dot product of `a` and `b`.  If `a` and `b` are both\n",
      "        scalars or both 1-D arrays then a scalar is returned; otherwise\n",
      "        an array is returned.\n",
      "        If `out` is given, then it is returned.\n",
      "    \n",
      "    Raises\n",
      "    ------\n",
      "    ValueError\n",
      "        If the last dimension of `a` is not the same size as\n",
      "        the second-to-last dimension of `b`.\n",
      "    \n",
      "    See Also\n",
      "    --------\n",
      "    vdot : Complex-conjugating dot product.\n",
      "    tensordot : Sum products over arbitrary axes.\n",
      "    einsum : Einstein summation convention.\n",
      "    matmul : '@' operator as method with out parameter.\n",
      "    \n",
      "    Examples\n",
      "    --------\n",
      "    >>> np.dot(3, 4)\n",
      "    12\n",
      "    \n",
      "    Neither argument is complex-conjugated:\n",
      "    \n",
      "    >>> np.dot([2j, 3j], [2j, 3j])\n",
      "    (-13+0j)\n",
      "    \n",
      "    For 2-D arrays it is the matrix product:\n",
      "    \n",
      "    >>> a = [[1, 0], [0, 1]]\n",
      "    >>> b = [[4, 1], [2, 2]]\n",
      "    >>> np.dot(a, b)\n",
      "    array([[4, 1],\n",
      "           [2, 2]])\n",
      "    \n",
      "    >>> a = np.arange(3*4*5*6).reshape((3,4,5,6))\n",
      "    >>> b = np.arange(3*4*5*6)[::-1].reshape((5,4,6,3))\n",
      "    >>> np.dot(a, b)[2,3,2,1,2,2]\n",
      "    499128\n",
      "    >>> sum(a[2,3,2,:] * b[1,2,:,2])\n",
      "    499128\n",
      "\n"
     ]
    }
   ],
   "source": [
    "#Transposing\n",
    "transpose= np.arange(12).reshape(3,4) \n",
    "print(transpose)\n",
    "print(\"===================\")\n",
    "print(transpose.T) # the shape has changed to 4,3\n",
    "print(\"===================\")\n",
    "# matrix product n(3,4) * n(4,3)\n",
    "print(np.dot(transpose.T, transpose))"
   ]
  },
  {
   "cell_type": "code",
   "execution_count": 61,
   "metadata": {},
   "outputs": [
    {
     "name": "stdout",
     "output_type": "stream",
     "text": [
      "[0 1 2 3 4 5 6 7]\n",
      "======Square root=============\n",
      "[ 0.          1.          1.41421356  1.73205081  2.          2.23606798\n",
      "  2.44948974  2.64575131]\n",
      "==========Binary Operations=======================\n",
      "[ 1.46807919  0.55631771 -0.3398263  -0.13009702  0.28943738 -0.95588403\n",
      " -1.14868508 -1.12000089 -0.22710787  0.33152037]\n",
      "[ 0.12226456 -2.16203108  0.80793549  1.35625629 -0.65507808 -0.90366093\n",
      " -0.35349258  1.51384591 -0.56696101 -0.83427369]\n",
      "===================\n",
      "[ 1.46807919  0.55631771  0.80793549  1.35625629  0.28943738 -0.90366093\n",
      " -0.35349258  1.51384591 -0.22710787  0.33152037]\n",
      "===================\n",
      "(array([ 0.46807919,  0.55631771,  0.80793549,  0.35625629,  0.28943738,\n",
      "       -0.90366093, -0.35349258,  0.51384591, -0.22710787,  0.33152037]), array([ 1.,  0.,  0.,  1.,  0., -0., -0.,  1., -0.,  0.]))\n"
     ]
    }
   ],
   "source": [
    "#Universal functions perform element wise operations on data in arrays.\n",
    "funky =np.arange(8)\n",
    "print(funky)\n",
    "print(\"======Square root=============\")\n",
    "print(np.sqrt(funky))\n",
    "print(\"==========Binary Operations=======================\")\n",
    "# Binary functions take two value, Others such as maximum, add\n",
    "x = random.randn(10)\n",
    "y = random.randn(10)\n",
    "print(x)\n",
    "print(y)\n",
    "print(\"===================\")\n",
    "max_value = np.maximum(x,y)\n",
    "print(max_value)# element wise operation\n",
    "print(\"===================\")\n",
    "print(np.modf(max_value))# function modf returns the fractional and integral parts of a floating point arrays"
   ]
  },
  {
   "cell_type": "code",
   "execution_count": null,
   "metadata": {
    "collapsed": true
   },
   "outputs": [],
   "source": []
  },
  {
   "cell_type": "code",
   "execution_count": 62,
   "metadata": {},
   "outputs": [
    {
     "name": "stdout",
     "output_type": "stream",
     "text": [
      "[[ 0.29652206 -0.34566667  1.06722498  0.4449534  -0.50799807]\n",
      " [-0.91300535 -0.25454644 -1.29471071 -0.06652499  1.64053461]\n",
      " [-1.15871909  0.37536137  0.31971104  1.6288996   1.64202486]\n",
      " [ 0.1038771   1.07579518 -1.34498936 -0.51311064  0.98414402]\n",
      " [ 0.52111484  0.26211694 -0.46807853  0.8417789   1.30877374]]\n",
      "=========================\n",
      "[[ 1 -1  1  1 -1]\n",
      " [-1 -1 -1 -1  1]\n",
      " [-1  1  1  1  1]\n",
      " [ 1  1 -1 -1  1]\n",
      " [ 1  1 -1  1  1]]\n",
      "[[ 1.         -0.34566667  1.          1.         -0.50799807]\n",
      " [-0.91300535 -0.25454644 -1.29471071 -0.06652499  1.        ]\n",
      " [-1.15871909  1.          1.          1.          1.        ]\n",
      " [ 1.          1.         -1.34498936 -0.51311064  1.        ]\n",
      " [ 1.          1.         -0.46807853  1.          1.        ]]\n"
     ]
    }
   ],
   "source": [
    "i = np.random.randn(5,5)\n",
    "# If you want to replace negative values in ra with -1 and positive values with 1. You can do it using where function\n",
    "print(i)\n",
    "print(\"=========================\")\n",
    "# If values in ra are greater than zero, replace it with 1, else replace it with -1.\n",
    "print(np.where(i>0, 1, -1))\n",
    "#to set only positive values\n",
    "print(np.where(i>0, 1, i))"
   ]
  },
  {
   "cell_type": "markdown",
   "metadata": {},
   "source": [
    "### Statistical methods"
   ]
  },
  {
   "cell_type": "code",
   "execution_count": 65,
   "metadata": {},
   "outputs": [
    {
     "name": "stdout",
     "output_type": "stream",
     "text": [
      "[[ 0.24301972 -0.56702541 -1.77464529 -0.56439267 -0.16789238]\n",
      " [ 1.06227708  0.37049711  1.26973986  0.26962603 -0.19573974]\n",
      " [ 1.12811381  0.31979048  1.66318883  0.08064729  1.34371747]\n",
      " [-0.62551125 -0.83462348  0.15685468  1.39510315  0.33756762]\n",
      " [-0.23916043  0.13444536 -0.4953358  -2.39420239  0.99113094]]\n",
      "0.116287623469\n",
      "2.90719058672\n",
      "===========================================\n",
      "The arrays are: [[ 0  1  2]\n",
      " [ 3  4  5]\n",
      " [ 6  7  8]\n",
      " [ 9 10 11]]\n",
      "[ 3 12 21 30]\n",
      "===========================================\n",
      "[[ 0  1  2]\n",
      " [ 3  5  7]\n",
      " [ 9 12 15]\n",
      " [18 22 26]]\n",
      "[[ 0  1  3]\n",
      " [ 3  7 12]\n",
      " [ 6 13 21]\n",
      " [ 9 19 30]]\n",
      "===========================================\n",
      "50\n",
      "===========================================\n",
      "True\n",
      "False\n"
     ]
    }
   ],
   "source": [
    "stat_rand_array = np.random.randn(5,5)\n",
    "print(stat_rand_array)\n",
    "print(\"Mean: \".format(stat_rand_array.mean()))\n",
    "print(\"Sum: \".format(stat_rand_array.sum()))\n",
    "print(\"===========================================\")              \n",
    "stat_array =np.arange(12).reshape(4,3)\n",
    "print(\"The stat_array: {}\".format(stat_array))   \n",
    "print(\"Sum row wise:\")\n",
    "print(stat_array.sum(1)) # returns sum of rows\n",
    "print(\"===========================================\")              \n",
    "print(stat_array.cumsum(0))  # cumulative sum of columns\n",
    "print(stat_array.cumsum(1))  # cumulative sum of rows\n",
    "print(\"===========================================\")              \n",
    "xp =np.random.randn(100)\n",
    "print(xp)\n",
    "print((xp > 0).sum()) # sum of all positive values\n",
    "print(\"===========================================\")              \n",
    "tandf =np.array([True,False,True,False,True,False])\n",
    "print(tandf.any()) #checks if any of the values are true\n",
    "print(tandf.all()) #returns false even if a single value is false\n",
    "            \n"
   ]
  },
  {
   "cell_type": "markdown",
   "metadata": {},
   "source": [
    "Other array functions are:\n",
    "std, var -> standard deviation and variance \n",
    "min, max -> Minimum and Maximum \n",
    "argmin, argmax -> Indices of minimum and maximum elements"
   ]
  },
  {
   "cell_type": "code",
   "execution_count": 73,
   "metadata": {},
   "outputs": [
    {
     "name": "stdout",
     "output_type": "stream",
     "text": [
      "[ 2.20481429 -0.79549674 -0.62036006  2.6011195  -0.41741217  0.21923837\n",
      "  1.40790411  1.87347443]\n",
      "[-0.79549674 -0.62036006 -0.41741217  0.21923837  1.40790411  1.87347443\n",
      "  2.20481429  2.6011195 ]\n",
      "=======================\n",
      "[[ 1.94603097  0.80581656  1.32518114  2.34570612]\n",
      " [-0.11043315  0.38724397  0.67865836  0.59391582]\n",
      " [ 0.43419114  0.025852    0.53532681 -0.88005017]\n",
      " [-0.70973011 -1.47931456 -0.19987271 -1.08926654]]\n",
      "[[ 0.80581656  1.32518114  1.94603097  2.34570612]\n",
      " [-0.11043315  0.38724397  0.59391582  0.67865836]\n",
      " [-0.88005017  0.025852    0.43419114  0.53532681]\n",
      " [-1.47931456 -1.08926654 -0.70973011 -0.19987271]]\n",
      "['Python' 'R' 'Scala']\n",
      "{'R', 'Python', 'Scala'}\n"
     ]
    }
   ],
   "source": [
    "#Sorting\n",
    "sort_test = np.random.randn(8)\n",
    "print(sort_test)\n",
    "sort_test.sort()\n",
    "print(sort_test)\n",
    "\n",
    "print(\"=======================\")\n",
    "sort_test_2 = np.random.randn(4,4)\n",
    "print(sort_test_2)\n",
    "sort_test_2.sort(1) #check the rows are sorted\n",
    "print(sort_test_2)\n",
    "\n",
    "languages = np.array(['Python', 'Scala', 'Python', 'R'])\n",
    "# unique elements\n",
    "print(np.unique(languages))\n",
    "print(set(languages)) # set is an alternative to unique function"
   ]
  },
  {
   "cell_type": "markdown",
   "metadata": {},
   "source": [
    "#### Other Functions are :\n",
    "intersect1d(x, y)-> Compute the sorted, common elements in x and y \n",
    "union1d(x,y) -> compute the sorted union of elements \n",
    "setdiff1d(x,y) -> set difference, elements in x that are not in y \n",
    "setxor1d(x, y) -> Set symmetric differences; elements that are in either of the arrays, but not both \n",
    "\n",
    "#### Other Matrix Functions \n",
    "diag : Return the diagonal (or off-diagonal) elements of a square matrix as a 1D array, or convert a 1D array into a square\n",
    "matrix with zeros on the off-diagonal\n",
    "trace: Compute the sum of the diagonal elements\n",
    "det: Compute the matrix determinant\n",
    "eig: Compute the eigenvalues and eigenvectors of a square matrix\n",
    "pinv: Compute the pseudo-inverse of a square matrix\n",
    "svd: Compute the singular value decomposition (SVD)\n",
    "solve: Solve the linear system Ax = b for x, where A is a square matrix\n",
    "lstsq: Compute the least-squares solution to y = Xb"
   ]
  },
  {
   "cell_type": "code",
   "execution_count": null,
   "metadata": {
    "collapsed": true
   },
   "outputs": [],
   "source": []
  },
  {
   "cell_type": "markdown",
   "metadata": {},
   "source": []
  },
  {
   "cell_type": "code",
   "execution_count": null,
   "metadata": {
    "collapsed": true
   },
   "outputs": [],
   "source": []
  },
  {
   "cell_type": "code",
   "execution_count": null,
   "metadata": {
    "collapsed": true
   },
   "outputs": [],
   "source": []
  }
 ],
 "metadata": {
  "kernelspec": {
   "display_name": "Python 3",
   "language": "python",
   "name": "python3"
  },
  "language_info": {
   "codemirror_mode": {
    "name": "ipython",
    "version": 3
   },
   "file_extension": ".py",
   "mimetype": "text/x-python",
   "name": "python",
   "nbconvert_exporter": "python",
   "pygments_lexer": "ipython3",
   "version": "3.6.1"
  }
 },
 "nbformat": 4,
 "nbformat_minor": 2
}
