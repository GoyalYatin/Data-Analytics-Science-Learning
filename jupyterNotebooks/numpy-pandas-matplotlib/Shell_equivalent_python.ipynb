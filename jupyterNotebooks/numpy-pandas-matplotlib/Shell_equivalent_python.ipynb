{
 "cells": [
  {
   "cell_type": "markdown",
   "metadata": {},
   "source": [
    "<h2>Something similar to comm command in linux </h2>"
   ]
  },
  {
   "cell_type": "code",
   "execution_count": 2,
   "metadata": {},
   "outputs": [
    {
     "name": "stdout",
     "output_type": "stream",
     "text": [
      "{'9ed7257f-c2ee-40f9-be3c-aaa20e47e212,1612817022,aaa20e47e213', '76458b1b-1906-4b10-bca0-6a241cb3ab55,1612817025,aaa20e47e216', '5b9cf2f9-d8e3-4876-99a3-4571f873cce4,1612817024,aaa20e47e215', '5b9cf2f9-d8e3-4876-99a3-4571f873cce4,1612817023,aaa20e47e214', '9ed7257f-c2ee-40f9-be3c-aaa20e47e212,1612817021,aaa20e47e212'}\n"
     ]
    }
   ],
   "source": [
    "with open('mainData.txt', 'r') as f:\n",
    "    lines1 = set(f.read().splitlines())\n",
    "\n",
    "with open('panda_export.txt', 'r') as f:\n",
    "    lines2 = set(f.read().splitlines())\n",
    "\n",
    "print(lines1.difference(lines2))"
   ]
  },
  {
   "cell_type": "markdown",
   "metadata": {},
   "source": [
    "<h4>Memory efficient alternate</h4>"
   ]
  },
  {
   "cell_type": "code",
   "execution_count": 3,
   "metadata": {},
   "outputs": [
    {
     "name": "stdout",
     "output_type": "stream",
     "text": [
      "{'9ed7257f-c2ee-40f9-be3c-aaa20e47e212,1612817022,aaa20e47e213', '76458b1b-1906-4b10-bca0-6a241cb3ab55,1612817025,aaa20e47e216', '5b9cf2f9-d8e3-4876-99a3-4571f873cce4,1612817024,aaa20e47e215', '5b9cf2f9-d8e3-4876-99a3-4571f873cce4,1612817023,aaa20e47e214', '9ed7257f-c2ee-40f9-be3c-aaa20e47e212,1612817021,aaa20e47e212'}\n"
     ]
    }
   ],
   "source": [
    "with open('mainData.txt') as f, open('panda_export.txt') as f2:\n",
    "    lines1 = set(map(str.rstrip, f))\n",
    "    print(lines1.difference(map(str.rstrip, f2)))"
   ]
  },
  {
   "cell_type": "markdown",
   "metadata": {},
   "source": [
    "<h2>Reference</h2>\n",
    "<a>https://www.linuxjournal.com/content/python-scripts-replacement-bash-utility-scripts</a>"
   ]
  },
  {
   "cell_type": "markdown",
   "metadata": {},
   "source": [
    "<h2>Some important shell commands</h2>\n",
    "\n",
    "<b>1. Removing the header<br/></b>\n",
    "sed '1d' file.txt > modifiedfile.txt\n",
    "\n",
    "<b>2. Selecting certain columns from csv and sort the content<br/></b>\n",
    "cut -d\",\" -f 2,3 file.txt | sort > modifiedfile.txt\n",
    "\n",
    "<b>3. Combining 1 and 2 together: </b>\n",
    "&nbsp; sed to remove first row, cut to select column number here its 3rd column, sorting the lines and putting in new file<br/>\n",
    "sed '1d' file.txt | cut -d\",\" -f 2,3 | sort > modifiedfile.txt\n",
    "\n",
    "<b>4. comm - compare two sorted files line by line and write to standard output: the lines that are common, plus the lines that are unique.<br/></b>\n",
    "comm -13 file1.txt file2.txt > modifiedfile.txt\n",
    "\n",
    "<b>5. Various options in comm command<br/></b>\n",
    "&emsp; -1\tsuppress lines unique to file1.<br/>\n",
    "&emsp; -2\tsuppress lines unique to file2.<br/>\n",
    "&emsp; -3\tsuppress lines that appear in both files.<br/>\n",
    "\n",
    "comm -12 file1.txt file2.txt | wc -l <br/>\n",
    "comm -13 file1.txt file2.txt | wc -l <br/>\n",
    "comm -23 file1.txt file2.txt | wc -l <br/>\n",
    "\n",
    "<b>6. search entries from pattern file against main file<br/></b>\n",
    "grep -f pattern.txt file.txt\n",
    "\n",
    "<b>7. Traversing through file, removing the extra spaces, getting uniq rows and printing the count of rows in resulting data<br/></b>\n",
    "cat file.txt | sed -r '/^\\s*$/d' | uniq | wc -l\n",
    "\n",
    "<b>8. Removing last 3 lines<br/></b>\n",
    "head -n -3 file.txt "
   ]
  },
  {
   "cell_type": "code",
   "execution_count": null,
   "metadata": {},
   "outputs": [],
   "source": []
  }
 ],
 "metadata": {
  "kernelspec": {
   "display_name": "Python 3",
   "language": "python",
   "name": "python3"
  },
  "language_info": {
   "codemirror_mode": {
    "name": "ipython",
    "version": 3
   },
   "file_extension": ".py",
   "mimetype": "text/x-python",
   "name": "python",
   "nbconvert_exporter": "python",
   "pygments_lexer": "ipython3",
   "version": "3.7.2"
  }
 },
 "nbformat": 4,
 "nbformat_minor": 2
}
