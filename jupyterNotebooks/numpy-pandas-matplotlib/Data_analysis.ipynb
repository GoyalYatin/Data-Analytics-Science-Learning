{
 "cells": [
  {
   "cell_type": "code",
   "execution_count": 1,
   "metadata": {},
   "outputs": [],
   "source": [
    "import pandas as pd\n",
    "from pandas import Series, DataFrame \n"
   ]
  },
  {
   "cell_type": "code",
   "execution_count": 2,
   "metadata": {},
   "outputs": [
    {
     "name": "stdout",
     "output_type": "stream",
     "text": [
      "                                    uci\n",
      "0  5294f9aa-05e2-40fb-b8c8-6fc860e65e85\n",
      "1  1b635cc7-da28-46ae-9f7b-6af848a01aef\n",
      "2  ecb9796e-60df-4e62-9db1-846333907e95\n",
      "3  ecb9796e-60df-4e62-9db1-846333907e95\n",
      "4  ecb9796e-60df-4e62-9db1-846333907e95\n",
      "                                    uci     version       traceid\n",
      "0  5294f9aa-05e2-40fb-b8c8-6fc860e65e85  1612816170  6fc860e65e85\n",
      "1  1b635cc7-da28-46ae-9f7b-6af848a01aef  1612816213  6af848a01ae1\n",
      "2  1b635cc7-da28-46ae-9f7b-6af848a01aef  1612816215  6af848a01ae2\n",
      "3  1b635cc7-da28-46ae-9f7b-6af848a01aef  1612816216  6af848a01aef\n",
      "4  9ed7257f-c2ee-40f9-be3c-aaa20e47e212  1612817021  aaa20e47e212\n",
      "5  9ed7257f-c2ee-40f9-be3c-aaa20e47e212  1612817022  aaa20e47e213\n",
      "6  5b9cf2f9-d8e3-4876-99a3-4571f873cce4  1612817023  aaa20e47e214\n",
      "7  5b9cf2f9-d8e3-4876-99a3-4571f873cce4  1612817024  aaa20e47e215\n",
      "8  76458b1b-1906-4b10-bca0-6a241cb3ab55  1612817025  aaa20e47e216\n"
     ]
    }
   ],
   "source": [
    "mainData = pd.read_csv(\"mainData.txt\", sep=\",\", names=['uci','version','traceid'])\n",
    "patternfile = pd.read_csv(\"patternFile.txt\", sep=\" \", names=['uci'])\n",
    "\n",
    "print(patternfile) # tail() or head() can be used to peak the data\n",
    "print(mainData) # tail() or head() can be used to peak the data\n"
   ]
  },
  {
   "cell_type": "code",
   "execution_count": 3,
   "metadata": {},
   "outputs": [
    {
     "name": "stdout",
     "output_type": "stream",
     "text": [
      "uci    5\n",
      "dtype: int64\n",
      "uci    3\n",
      "dtype: int64\n"
     ]
    }
   ],
   "source": [
    "print(patternfile.count())\n",
    "uniqPatternFile = patternfile.drop_duplicates()\n",
    "print(uniqPatternFile.count())"
   ]
  },
  {
   "cell_type": "code",
   "execution_count": 4,
   "metadata": {},
   "outputs": [
    {
     "name": "stdout",
     "output_type": "stream",
     "text": [
      "uci        4\n",
      "version    4\n",
      "traceid    4\n",
      "dtype: int64\n",
      "                                    uci     version       traceid\n",
      "0  5294f9aa-05e2-40fb-b8c8-6fc860e65e85  1612816170  6fc860e65e85\n",
      "1  1b635cc7-da28-46ae-9f7b-6af848a01aef  1612816213  6af848a01ae1\n",
      "2  1b635cc7-da28-46ae-9f7b-6af848a01aef  1612816215  6af848a01ae2\n",
      "3  1b635cc7-da28-46ae-9f7b-6af848a01aef  1612816216  6af848a01aef\n"
     ]
    }
   ],
   "source": [
    "finaldata = pd.merge(mainData, uniqPatternFile, on='uci')\n",
    "print(finaldata.count())\n",
    "print(finaldata)\n",
    "finaldata.to_csv('panda_export.txt', index=False, header=False)"
   ]
  },
  {
   "cell_type": "code",
   "execution_count": 5,
   "metadata": {},
   "outputs": [
    {
     "data": {
      "text/html": [
       "<div>\n",
       "<style scoped>\n",
       "    .dataframe tbody tr th:only-of-type {\n",
       "        vertical-align: middle;\n",
       "    }\n",
       "\n",
       "    .dataframe tbody tr th {\n",
       "        vertical-align: top;\n",
       "    }\n",
       "\n",
       "    .dataframe thead th {\n",
       "        text-align: right;\n",
       "    }\n",
       "</style>\n",
       "<table border=\"1\" class=\"dataframe\">\n",
       "  <thead>\n",
       "    <tr style=\"text-align: right;\">\n",
       "      <th></th>\n",
       "      <th>uci</th>\n",
       "      <th>versionfd</th>\n",
       "      <th>traceidfd</th>\n",
       "      <th>versionmd</th>\n",
       "      <th>traceidmd</th>\n",
       "    </tr>\n",
       "  </thead>\n",
       "  <tbody>\n",
       "    <tr>\n",
       "      <th>0</th>\n",
       "      <td>5294f9aa-05e2-40fb-b8c8-6fc860e65e85</td>\n",
       "      <td>1612816170</td>\n",
       "      <td>6fc860e65e85</td>\n",
       "      <td>1612816170</td>\n",
       "      <td>6fc860e65e85</td>\n",
       "    </tr>\n",
       "    <tr>\n",
       "      <th>1</th>\n",
       "      <td>1b635cc7-da28-46ae-9f7b-6af848a01aef</td>\n",
       "      <td>1612816213</td>\n",
       "      <td>6af848a01ae1</td>\n",
       "      <td>1612816213</td>\n",
       "      <td>6af848a01ae1</td>\n",
       "    </tr>\n",
       "    <tr>\n",
       "      <th>1</th>\n",
       "      <td>1b635cc7-da28-46ae-9f7b-6af848a01aef</td>\n",
       "      <td>1612816213</td>\n",
       "      <td>6af848a01ae1</td>\n",
       "      <td>1612816215</td>\n",
       "      <td>6af848a01ae2</td>\n",
       "    </tr>\n",
       "    <tr>\n",
       "      <th>1</th>\n",
       "      <td>1b635cc7-da28-46ae-9f7b-6af848a01aef</td>\n",
       "      <td>1612816213</td>\n",
       "      <td>6af848a01ae1</td>\n",
       "      <td>1612816216</td>\n",
       "      <td>6af848a01aef</td>\n",
       "    </tr>\n",
       "    <tr>\n",
       "      <th>2</th>\n",
       "      <td>1b635cc7-da28-46ae-9f7b-6af848a01aef</td>\n",
       "      <td>1612816215</td>\n",
       "      <td>6af848a01ae2</td>\n",
       "      <td>1612816213</td>\n",
       "      <td>6af848a01ae1</td>\n",
       "    </tr>\n",
       "    <tr>\n",
       "      <th>2</th>\n",
       "      <td>1b635cc7-da28-46ae-9f7b-6af848a01aef</td>\n",
       "      <td>1612816215</td>\n",
       "      <td>6af848a01ae2</td>\n",
       "      <td>1612816215</td>\n",
       "      <td>6af848a01ae2</td>\n",
       "    </tr>\n",
       "    <tr>\n",
       "      <th>2</th>\n",
       "      <td>1b635cc7-da28-46ae-9f7b-6af848a01aef</td>\n",
       "      <td>1612816215</td>\n",
       "      <td>6af848a01ae2</td>\n",
       "      <td>1612816216</td>\n",
       "      <td>6af848a01aef</td>\n",
       "    </tr>\n",
       "    <tr>\n",
       "      <th>3</th>\n",
       "      <td>1b635cc7-da28-46ae-9f7b-6af848a01aef</td>\n",
       "      <td>1612816216</td>\n",
       "      <td>6af848a01aef</td>\n",
       "      <td>1612816213</td>\n",
       "      <td>6af848a01ae1</td>\n",
       "    </tr>\n",
       "    <tr>\n",
       "      <th>3</th>\n",
       "      <td>1b635cc7-da28-46ae-9f7b-6af848a01aef</td>\n",
       "      <td>1612816216</td>\n",
       "      <td>6af848a01aef</td>\n",
       "      <td>1612816215</td>\n",
       "      <td>6af848a01ae2</td>\n",
       "    </tr>\n",
       "    <tr>\n",
       "      <th>3</th>\n",
       "      <td>1b635cc7-da28-46ae-9f7b-6af848a01aef</td>\n",
       "      <td>1612816216</td>\n",
       "      <td>6af848a01aef</td>\n",
       "      <td>1612816216</td>\n",
       "      <td>6af848a01aef</td>\n",
       "    </tr>\n",
       "  </tbody>\n",
       "</table>\n",
       "</div>"
      ],
      "text/plain": [
       "                                    uci   versionfd     traceidfd   versionmd  \\\n",
       "0  5294f9aa-05e2-40fb-b8c8-6fc860e65e85  1612816170  6fc860e65e85  1612816170   \n",
       "1  1b635cc7-da28-46ae-9f7b-6af848a01aef  1612816213  6af848a01ae1  1612816213   \n",
       "1  1b635cc7-da28-46ae-9f7b-6af848a01aef  1612816213  6af848a01ae1  1612816215   \n",
       "1  1b635cc7-da28-46ae-9f7b-6af848a01aef  1612816213  6af848a01ae1  1612816216   \n",
       "2  1b635cc7-da28-46ae-9f7b-6af848a01aef  1612816215  6af848a01ae2  1612816213   \n",
       "2  1b635cc7-da28-46ae-9f7b-6af848a01aef  1612816215  6af848a01ae2  1612816215   \n",
       "2  1b635cc7-da28-46ae-9f7b-6af848a01aef  1612816215  6af848a01ae2  1612816216   \n",
       "3  1b635cc7-da28-46ae-9f7b-6af848a01aef  1612816216  6af848a01aef  1612816213   \n",
       "3  1b635cc7-da28-46ae-9f7b-6af848a01aef  1612816216  6af848a01aef  1612816215   \n",
       "3  1b635cc7-da28-46ae-9f7b-6af848a01aef  1612816216  6af848a01aef  1612816216   \n",
       "\n",
       "      traceidmd  \n",
       "0  6fc860e65e85  \n",
       "1  6af848a01ae1  \n",
       "1  6af848a01ae2  \n",
       "1  6af848a01aef  \n",
       "2  6af848a01ae1  \n",
       "2  6af848a01ae2  \n",
       "2  6af848a01aef  \n",
       "3  6af848a01ae1  \n",
       "3  6af848a01ae2  \n",
       "3  6af848a01aef  "
      ]
     },
     "execution_count": 5,
     "metadata": {},
     "output_type": "execute_result"
    }
   ],
   "source": [
    "commonData = finaldata.join(mainData\n",
    "                            .set_index('uci'), \n",
    "                            on='uci', how='inner', \n",
    "                            lsuffix='fd', rsuffix='md') # suffix required since the name of the columns are same\n",
    "commonData"
   ]
  },
  {
   "cell_type": "code",
   "execution_count": 32,
   "metadata": {},
   "outputs": [
    {
     "name": "stdout",
     "output_type": "stream",
     "text": [
      "(4, 3)\n",
      "(4, 3)\n"
     ]
    },
    {
     "data": {
      "text/html": [
       "<div>\n",
       "<style scoped>\n",
       "    .dataframe tbody tr th:only-of-type {\n",
       "        vertical-align: middle;\n",
       "    }\n",
       "\n",
       "    .dataframe tbody tr th {\n",
       "        vertical-align: top;\n",
       "    }\n",
       "\n",
       "    .dataframe thead tr th {\n",
       "        text-align: left;\n",
       "    }\n",
       "</style>\n",
       "<table border=\"1\" class=\"dataframe\">\n",
       "  <thead>\n",
       "    <tr>\n",
       "      <th></th>\n",
       "      <th colspan=\"2\" halign=\"left\">uci</th>\n",
       "      <th colspan=\"2\" halign=\"left\">version</th>\n",
       "      <th colspan=\"2\" halign=\"left\">traceid</th>\n",
       "    </tr>\n",
       "    <tr>\n",
       "      <th></th>\n",
       "      <th>self</th>\n",
       "      <th>other</th>\n",
       "      <th>self</th>\n",
       "      <th>other</th>\n",
       "      <th>self</th>\n",
       "      <th>other</th>\n",
       "    </tr>\n",
       "  </thead>\n",
       "  <tbody>\n",
       "    <tr>\n",
       "      <th>0</th>\n",
       "      <td>5294f9aa-05e2-40fb-b8c8-6fc860e65e85</td>\n",
       "      <td>1b635cc7-da28-46ae-9f7b-6af848a01aef</td>\n",
       "      <td>1612816170</td>\n",
       "      <td>1612816213</td>\n",
       "      <td>6fc860e65e85</td>\n",
       "      <td>6af848a01ae1</td>\n",
       "    </tr>\n",
       "    <tr>\n",
       "      <th>1</th>\n",
       "      <td>NaN</td>\n",
       "      <td>NaN</td>\n",
       "      <td>1612816213</td>\n",
       "      <td>1612816215</td>\n",
       "      <td>6af848a01ae1</td>\n",
       "      <td>6af848a01ae2</td>\n",
       "    </tr>\n",
       "    <tr>\n",
       "      <th>2</th>\n",
       "      <td>NaN</td>\n",
       "      <td>NaN</td>\n",
       "      <td>1612816215</td>\n",
       "      <td>1612816216</td>\n",
       "      <td>6af848a01ae2</td>\n",
       "      <td>6af848a01aef</td>\n",
       "    </tr>\n",
       "    <tr>\n",
       "      <th>3</th>\n",
       "      <td>1b635cc7-da28-46ae-9f7b-6af848a01aef</td>\n",
       "      <td>9ed7257f-c2ee-40f9-be3c-aaa20e47e212</td>\n",
       "      <td>1612816216</td>\n",
       "      <td>1612817021</td>\n",
       "      <td>6af848a01aef</td>\n",
       "      <td>aaa20e47e212</td>\n",
       "    </tr>\n",
       "  </tbody>\n",
       "</table>\n",
       "</div>"
      ],
      "text/plain": [
       "                                    uci                                        \\\n",
       "                                   self                                 other   \n",
       "0  5294f9aa-05e2-40fb-b8c8-6fc860e65e85  1b635cc7-da28-46ae-9f7b-6af848a01aef   \n",
       "1                                   NaN                                   NaN   \n",
       "2                                   NaN                                   NaN   \n",
       "3  1b635cc7-da28-46ae-9f7b-6af848a01aef  9ed7257f-c2ee-40f9-be3c-aaa20e47e212   \n",
       "\n",
       "      version                   traceid                \n",
       "         self       other          self         other  \n",
       "0  1612816170  1612816213  6fc860e65e85  6af848a01ae1  \n",
       "1  1612816213  1612816215  6af848a01ae1  6af848a01ae2  \n",
       "2  1612816215  1612816216  6af848a01ae2  6af848a01aef  \n",
       "3  1612816216  1612817021  6af848a01aef  aaa20e47e212  "
      ]
     },
     "execution_count": 32,
     "metadata": {},
     "output_type": "execute_result"
    }
   ],
   "source": [
    "finaldata.reset_index(drop=True)\n",
    "mainData.reset_index(drop=True)\n",
    "print(mainData.iloc[1:5].shape)\n",
    "print(finaldata.iloc[:4].shape)\n",
    "\n",
    "# compare needs the same shape and row/column labels\n",
    "comparedData = finaldata.iloc[:4].reset_index(drop=True).compare(mainData.iloc[1:5].reset_index(drop=True))\n",
    "comparedData"
   ]
  }
 ],
 "metadata": {
  "kernelspec": {
   "display_name": "Python 3",
   "language": "python",
   "name": "python3"
  },
  "language_info": {
   "codemirror_mode": {
    "name": "ipython",
    "version": 3
   },
   "file_extension": ".py",
   "mimetype": "text/x-python",
   "name": "python",
   "nbconvert_exporter": "python",
   "pygments_lexer": "ipython3",
   "version": "3.7.2"
  }
 },
 "nbformat": 4,
 "nbformat_minor": 2
}
